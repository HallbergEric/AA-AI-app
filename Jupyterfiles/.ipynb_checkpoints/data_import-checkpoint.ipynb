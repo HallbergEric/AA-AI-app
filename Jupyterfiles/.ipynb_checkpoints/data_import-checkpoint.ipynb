{
 "cells": [
  {
   "cell_type": "code",
   "execution_count": null,
   "metadata": {},
   "outputs": [],
   "source": [
    "# Import\n",
    "import yfinance as yf\n",
    "import pandas as pd\n",
    "import numpy as np\n",
    "import requests\n",
    "import json\n",
    "import talib as talib\n",
    "from matplotlib import pyplot as plt\n",
    "from mplfinance.original_flavor import candlestick_ohlc\n",
    "from matplotlib.pylab import date2num\n",
    "from keras.models import Sequential\n",
    "from keras.layers import Dense,LSTM,BatchNormalization,Flatten"
   ]
  },
  {
   "cell_type": "code",
   "execution_count": null,
   "metadata": {},
   "outputs": [],
   "source": [
    "# import list of top 100 stocks USA\n",
    "# import stock list from CSV file\n",
    "importedCsv = pd.read_csv (r'../CSV/StockList.csv', sep=',')\n",
    "print(importedCsv[\"Symbol\"])"
   ]
  },
  {
   "cell_type": "code",
   "execution_count": null,
   "metadata": {},
   "outputs": [],
   "source": [
    "# Functions\n",
    "def checkNonesString(df):\n",
    "    # CHECK Object column for \"None\" strings.\n",
    "    print(df[df['Symbol'].str.contains('None')].any())\n",
    "    \n",
    "\n",
    "def checkNans(df):\n",
    "    # Check if there are NaNs\n",
    "    print(\"-----IS NA per COL-------\")\n",
    "    print(\"Doesn't seem to be working\")\n",
    "    print(df[df.isna().any(axis=1)].sum())\n",
    "\n",
    "    print(\"-----IS NA per COL-------\")\n",
    "    print(df.isna().sum())\n",
    "\n",
    "    print(\"------printing sum of Nans for each column------\")\n",
    "    for col in df.columns:\n",
    "        print(col + \": \" + str(df[col].isnull().sum()))\n",
    "\n",
    "def is_even(number):\n",
    "    \"\"\"Return whether an integer is even or not.\"\"\"\n",
    "    return 5      \n",
    "        \n",
    "def checkInfs(df):\n",
    "    print(\"-------total amount of Infs per Column-----------\")\n",
    "    print(df.groupby(np.isinf(df[\"Open\"])).count())\n",
    "\n",
    "    print(\"-------total amount of Infs-----------\")\n",
    "    count = np.isinf(df[\"Open\"]).values.sum()\n",
    "    print(\"It contains \" + str(count) + \" infinite values\")\n",
    "\n",
    "\n",
    "def printDataframe(df):\n",
    "    # Prints\n",
    "    print(\"-----DATAFRAME-------\")\n",
    "    print(df.head(10))\n",
    "\n",
    "    print(\"-----SHAPE-------\")\n",
    "    print(df.shape)\n",
    "\n",
    "    print(\"-----COLUMNS-------\")\n",
    "    print(df.columns)\n",
    "\n",
    "    print(\"-----DATATYPES-------\")\n",
    "    print(df.dtypes)\n",
    "\n"
   ]
  },
  {
   "cell_type": "code",
   "execution_count": null,
   "metadata": {},
   "outputs": [],
   "source": [
    "# Add historical data for all stocks in ImportedCSV file = 100 stocks\n",
    "final_df = pd.DataFrame()\n",
    "\n",
    "oneStockAAPL = yf.Ticker(\"AAPL\").history(period=\"max\")\n",
    "# adding symbol for traceability\n",
    "oneStockAAPL[\"Symbol\"] = \"AAPL\"\n",
    "# Rearragning the date column to a functionalt \"timestamp\"\n",
    "#oneStockAAPL[\"Timestamp\"] = oneStockAAPL.index\n",
    "oneStockAAPL.insert(0, 'Timestamp', oneStockAAPL.index)\n",
    "print(oneStockAAPL)\n",
    "for col in importedCsv[\"Symbol\"]:\n",
    "    \n",
    "    #add code for all stocks to ahve the same date interval\n",
    "    \n",
    "    #fetch data for every stock\n",
    "    temp = yf.Ticker(col).history(period=\"max\")\n",
    "    # adding symbol for traceability\n",
    "    temp[\"Symbol\"] = col\n",
    "    # Rearragning the date column to a functionalt \"timestamp\"\n",
    "    temp[\"Timestamp\"] = temp.index\n",
    "    # concateing with the dataframe for all stocks\n",
    "    final_df = pd.concat([final_df, temp], axis=0)\n",
    "\n",
    "    "
   ]
  },
  {
   "cell_type": "code",
   "execution_count": null,
   "metadata": {},
   "outputs": [],
   "source": [
    "# restting index\n",
    "oneStockAAPL.reset_index(drop=True, inplace=True)\n",
    "final_df.reset_index(drop=True, inplace=True)"
   ]
  },
  {
   "cell_type": "code",
   "execution_count": null,
   "metadata": {},
   "outputs": [],
   "source": [
    "# Checking functions\n",
    "printDataframe(final_df)\n",
    "checkInfs(final_df)\n",
    "checkNans(final_df)\n",
    "checkNonesString(final_df)"
   ]
  },
  {
   "cell_type": "code",
   "execution_count": null,
   "metadata": {},
   "outputs": [],
   "source": [
    "# Finds the row witht the NaNs\n",
    "#df1 = final_df[final_df['Symbol'].str.contains(\"NVDA\")]\n",
    "#is_NaN = df1.isnull()\n",
    "#row_has_NaN = is_NaN.any(axis=1)\n",
    "#rows_with_NaN = df1[row_has_NaN]\n",
    "#print(rows_with_NaN)\n",
    "#print(df1)\n",
    "\n",
    "#print(\"--------\")\n",
    "#df2 = final_df.loc[46545:46550]\n",
    "#print(df2)\n",
    "\n",
    "# Dropping rows with NaNs, (should only be one in NVDA)\n",
    "final_df.dropna(inplace=True)"
   ]
  },
  {
   "cell_type": "code",
   "execution_count": null,
   "metadata": {},
   "outputs": [],
   "source": [
    "# Checking functions\n",
    "printDataframe(final_df)\n",
    "checkInfs(final_df)\n",
    "checkNans(final_df)\n",
    "checkNonesString(final_df)"
   ]
  },
  {
   "cell_type": "code",
   "execution_count": null,
   "metadata": {},
   "outputs": [],
   "source": [
    "print(oneStockAAPL)"
   ]
  },
  {
   "cell_type": "code",
   "execution_count": null,
   "metadata": {},
   "outputs": [],
   "source": [
    "# Get earliest timestamp for all stocks...\n",
    "\n",
    "print(min(oneStockAAPL['Timestamp']))\n",
    "print(max(oneStockAAPL['Timestamp']))\n",
    "printDataframe(oneStockAAPL)"
   ]
  },
  {
   "cell_type": "code",
   "execution_count": null,
   "metadata": {},
   "outputs": [],
   "source": []
  },
  {
   "cell_type": "code",
   "execution_count": null,
   "metadata": {},
   "outputs": [],
   "source": [
    "oneStockAAPL.to_csv(r'../CSV/oneStockAAPL.csv', sep= \",\", index = False)"
   ]
  },
  {
   "cell_type": "code",
   "execution_count": null,
   "metadata": {},
   "outputs": [],
   "source": []
  }
 ],
 "metadata": {
  "kernelspec": {
   "display_name": "Python 3 (ipykernel)",
   "language": "python",
   "name": "python3"
  },
  "language_info": {
   "codemirror_mode": {
    "name": "ipython",
    "version": 3
   },
   "file_extension": ".py",
   "mimetype": "text/x-python",
   "name": "python",
   "nbconvert_exporter": "python",
   "pygments_lexer": "ipython3",
   "version": "3.8.12"
  }
 },
 "nbformat": 4,
 "nbformat_minor": 4
}
