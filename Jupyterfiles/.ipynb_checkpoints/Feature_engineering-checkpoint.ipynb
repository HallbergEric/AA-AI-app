{
 "cells": [
  {
   "cell_type": "code",
   "execution_count": 1,
   "id": "44e4637f",
   "metadata": {},
   "outputs": [],
   "source": [
    "# Import\n",
    "import yfinance as yf\n",
    "import pandas as pd\n",
    "import numpy as np\n",
    "import requests\n",
    "import json\n",
    "import talib as talib\n",
    "from talib import MA_Type, OBV, ATR, WCLPRICE, AVGPRICE, STDDEV\n",
    "from matplotlib import pyplot as plt\n",
    "from mplfinance.original_flavor import candlestick_ohlc\n",
    "from matplotlib.pylab import date2num\n",
    "from keras.models import Sequential\n",
    "from keras.layers import Dense,LSTM,BatchNormalization,Flatten\n",
    "import seaborn as sns"
   ]
  },
  {
   "cell_type": "code",
   "execution_count": 2,
   "id": "b95c5582",
   "metadata": {},
   "outputs": [
    {
     "name": "stdout",
     "output_type": "stream",
     "text": [
      "        Timestamp        Open        High         Low       Close     Volume  \\\n",
      "0      1980-12-12    0.100453    0.100890    0.100453    0.100453  469033600   \n",
      "1      1980-12-15    0.095649    0.095649    0.095213    0.095213  175884800   \n",
      "2      1980-12-16    0.088661    0.088661    0.088224    0.088224  105728000   \n",
      "3      1980-12-17    0.090408    0.090845    0.090408    0.090408   86441600   \n",
      "4      1980-12-18    0.093029    0.093466    0.093029    0.093029   73449600   \n",
      "...           ...         ...         ...         ...         ...        ...   \n",
      "10357  2022-01-10  169.080002  172.500000  168.169998  172.190002  106765600   \n",
      "10358  2022-01-11  172.320007  175.179993  170.820007  175.080002   76138300   \n",
      "10359  2022-01-12  176.119995  177.179993  174.820007  175.529999   74805200   \n",
      "10360  2022-01-13  175.779999  176.619995  171.789993  172.190002   84505800   \n",
      "10361  2022-01-14  171.339996  173.779999  171.089996  173.070007   80355000   \n",
      "\n",
      "      Symbol  \n",
      "0       AAPL  \n",
      "1       AAPL  \n",
      "2       AAPL  \n",
      "3       AAPL  \n",
      "4       AAPL  \n",
      "...      ...  \n",
      "10357   AAPL  \n",
      "10358   AAPL  \n",
      "10359   AAPL  \n",
      "10360   AAPL  \n",
      "10361   AAPL  \n",
      "\n",
      "[10362 rows x 7 columns]\n"
     ]
    }
   ],
   "source": [
    "df = pd.read_csv (r'../CSV/oneStockAAPL.csv', sep=',')\n",
    "df.drop('Dividends', axis=1, inplace=True)\n",
    "df.drop('Stock Splits', axis=1, inplace=True)\n",
    "print(df)\n"
   ]
  },
  {
   "cell_type": "code",
   "execution_count": 3,
   "id": "7b02e41b",
   "metadata": {},
   "outputs": [],
   "source": [
    "# Functions\n",
    "def checkNonesString(df):\n",
    "    # CHECK Object column for \"None\" strings.\n",
    "    print(df[df['Symbol'].str.contains('None')].any())\n",
    "    \n",
    "\n",
    "def checkNans(df):\n",
    "    # Check if there are NaNs\n",
    "    print(\"-----IS NA per COL-------\")\n",
    "    print(\"Doesn't seem to be working\")\n",
    "    print(df[df.isna().any(axis=1)].sum())\n",
    "\n",
    "    print(\"-----IS NA per COL-------\")\n",
    "    print(df.isna().sum())\n",
    "\n",
    "    print(\"------printing sum of Nans for each column------\")\n",
    "    for col in df.columns:\n",
    "        print(col + \": \" + str(df[col].isnull().sum()))\n",
    "        \n",
    "        \n",
    "def checkInfs(df):\n",
    "    print(\"-------total amount of Infs per Column-----------\")\n",
    "    print(df.groupby(np.isinf(df[\"Open\"])).count())\n",
    "\n",
    "    print(\"-------total amount of Infs-----------\")\n",
    "    count = np.isinf(df[\"Open\"]).values.sum()\n",
    "    print(\"It contains \" + str(count) + \" infinite values\")\n",
    "\n",
    "\n",
    "def printDataframe(df):\n",
    "    # Prints\n",
    "    print(\"-----DATAFRAME-------\")\n",
    "    print(df.head(10))\n",
    "\n",
    "    print(\"-----SHAPE-------\")\n",
    "    print(df.shape)\n",
    "\n",
    "    print(\"-----COLUMNS-------\")\n",
    "    print(df.columns)\n",
    "\n",
    "    print(\"-----DATATYPES-------\")\n",
    "    print(df.dtypes)\n",
    "\n"
   ]
  },
  {
   "cell_type": "code",
   "execution_count": null,
   "id": "db0ddd6d",
   "metadata": {},
   "outputs": [
    {
     "name": "stderr",
     "output_type": "stream",
     "text": [
      "C:\\Users\\Eric\\AppData\\Local\\Temp/ipykernel_7628/261690742.py:4: FutureWarning: Series.dt.weekofyear and Series.dt.week have been deprecated.  Please use Series.dt.isocalendar().week instead.\n",
      "  df.insert(1, 'Week_Number', df['Timestamp'].dt.week)\n"
     ]
    }
   ],
   "source": [
    "# Casting Timestamp to type datetime64[ns]\n",
    "df['Timestamp'] = df['Timestamp'].astype('datetime64[ns]')\n",
    "# Adding week number, to be able to derived the Weekly labels.\n",
    "df.insert(1, 'Week_Number', df['Timestamp'].dt.week)\n",
    "\n",
    "# Creating labels\n",
    "for ticker in df[\"Symbol\"]:\n",
    "    df[\"Close1d%\"] = df[\"Close\"].pct_change(periods=-1).shift(periods=0)\n",
    "    df[\"Close5d%\"] = df[\"Close\"].pct_change(periods=-5).shift(periods=0)\n",
    "    df[\"Close10d%\"] = df[\"Close\"].pct_change(periods=-10).shift(periods=0)\n",
    "    df[\"Close15d%\"] = df[\"Close\"].pct_change(periods=-15).shift(periods=0)\n",
    "    df[\"Close20d%\"] = df[\"Close\"].pct_change(periods=-20).shift(periods=0)\n",
    "\n",
    "printDataframe(df)"
   ]
  },
  {
   "cell_type": "code",
   "execution_count": null,
   "id": "1acc8d4c",
   "metadata": {},
   "outputs": [],
   "source": [
    "# Adding Numerical indicators/features in a for loop, for all stocks.\n",
    "list_of_stocks = df['Symbol'].unique()\n",
    "list_to_category = []\n",
    "list_to_percentage = []\n",
    "print(list_of_stocks.size)\n",
    "for ticker in list_of_stocks:\n",
    "    \n",
    "    # it neeeds to know how to access the right rows, those beloning to the right ticker.\n",
    "#-------- Price comparable indicators------------\n",
    "    \n",
    "    # BB\n",
    "    df[\"BB upper\"], df[\"BB middle\"], df[\"BB lower\"] = talib.BBANDS(df[\"Close\"], matype=MA_Type.T3)\n",
    "    list_to_category.extend([\"BB upper\", \"BB lower\"])\n",
    "    list_to_percentage.extend([\"BB upper\", \"BB lower\"])    \n",
    "\n",
    "    # SMA 0-50\n",
    "    for i in range(5,25,5):\n",
    "        tempColName = \"SMA\" + str(i)\n",
    "        list_to_category.append(tempColName)\n",
    "        list_to_percentage.append(tempColName)\n",
    "        df[tempColName] = talib.SMA(df[\"Close\"], i)\n",
    "\n",
    "    # SMA 50-300\n",
    "    for i in range(50,300,50):\n",
    "        tempColName = \"SMA\" + str(i)\n",
    "        list_to_category.append(tempColName)\n",
    "        list_to_percentage.append(tempColName)\n",
    "        df[tempColName] = talib.SMA(df[\"Close\"], i)\n",
    "        \n",
    "    # Weighted Closed Price\n",
    "    df[\"WCLPRICE\"] = WCLPRICE(df[\"High\"], df[\"Low\"], df[\"Close\"])\n",
    "    list_to_category.append(\"WCLPRICE\")\n",
    "    list_to_percentage.append(\"WCLPRICE\")\n",
    "\n",
    "    # AVG Price\n",
    "    df[\"AVGPRICE\"] = AVGPRICE(df[\"Open\"], df[\"High\"], df[\"Low\"], df[\"Close\"])\n",
    "    list_to_category.append(\"AVGPRICE\")\n",
    "    list_to_percentage.append(\"AVGPRICE\")\n",
    "    \n",
    "    # STD deviation\n",
    "    df[\"STD-5/1\"] = STDDEV(df[\"Close\"], timeperiod=5, nbdev=1)\n",
    "    df[\"STD-5/2\"] = STDDEV(df[\"Close\"], timeperiod=5, nbdev=2)\n",
    "    df[\"STD-10/1\"] = STDDEV(df[\"Close\"], timeperiod=10, nbdev=1)\n",
    "    df[\"STD-10/2\"] = STDDEV(df[\"Close\"], timeperiod=10, nbdev=2)\n",
    "    list_to_category.extend([\"STD-5/1\", \"STD-5/2\", \"STD-10/1\", \"STD-10/2\"])\n",
    "    list_to_percentage.extend([\"STD-5/1\", \"STD-5/2\", \"STD-10/1\", \"STD-10/2\"])\n",
    "\n",
    "#-------- Other indicators------------\n",
    "    \n",
    "    # OBV\n",
    "    df[\"OBV\"] = OBV(df[\"Close\"], df[\"Volume\"])\n",
    "    \n",
    "    # ATR\n",
    "    df[\"ATR14\"] = ATR(df[\"High\"], df[\"Low\"], df[\"Close\"], timeperiod=14)\n",
    "    df[\"ATR5\"] = ATR(df[\"High\"], df[\"Low\"], df[\"Close\"], timeperiod=5)\n",
    "\n",
    "    # RSI\n",
    "    df[\"RSI\"] = talib.RSI(df[\"Close\"])\n",
    "    \n",
    "    # Momentum\n",
    "    df[\"Momentum\"] = talib.MOM(df[\"Close\"], timeperiod=5)\n",
    "\n",
    "    # MACD\n",
    "    df[\"macd\"], df[\"macd_signal\"], df[\"macd_hist\"] = talib.MACD(df['Close'])"
   ]
  },
  {
   "cell_type": "code",
   "execution_count": null,
   "id": "bafb7b6b",
   "metadata": {},
   "outputs": [],
   "source": [
    "# A checking of values validity\n",
    "checkNonesString(df)\n",
    "checkNans(df)\n",
    "checkInfs(df)\n",
    "printDataframe(df)"
   ]
  },
  {
   "cell_type": "code",
   "execution_count": null,
   "id": "f9ef6961",
   "metadata": {},
   "outputs": [],
   "source": [
    "# Example plotting\n",
    "df_plot = df[df[\"Timestamp\"] > '2020-12-12']\n",
    "df_plot.index = df_plot[\"Timestamp\"]\n",
    "\n",
    "checkNans(df_plot)\n",
    "\n",
    "fig = plt.figure()\n",
    "fig.set_size_inches((50, 36))\n",
    "ax_rsi = fig.add_axes((0, 0.24, 1, 0.2))\n",
    "\n",
    "# Plotting the RSI boundaries\n",
    "#ax_rsi.plot(df_plot.index, [70] * len(df_plot.index), label=\"overbought\")\n",
    "#ax_rsi.plot(df_plot.index, [30] * len(df_plot.index), label=\"oversold\")\n",
    "#ax_rsi.plot(df_plot.index, df_plot[\"RSI\"], label=\"rsi\")\n",
    "\n",
    "# Plotting the BB \n",
    "#ax_rsi.plot(df_plot.index,df_plot[\"BB upper\"],  label=\"BBhigh\", color =\"purple\")\n",
    "#ax_rsi.plot(df_plot.index,df_plot[\"BB lower\"], label=\"BBlow\", color =\"purple\")\n",
    "#ax_rsi.plot(df_plot.index,df_plot[\"BB middle\"], label=\"BBmiddle\", color =\"purple\")\n",
    "\n",
    "# Plotting Volume\n",
    "#ax_rsi.plot(df_plot.index,(df_plot[\"OBV\"] / 1000000000), label=\"OBV\", color =\"teal\")\n",
    "\n",
    "\n",
    "# Plotting OBV\n",
    "#ax_rsi.plot(df_plot.index, (df_plot[\"OBV\"] / 1000000000), label=\"OBV\", color =\"teal\")\n",
    "ax_rsi.plot(df_plot.index, df_plot[\"Close1d%\"])\n",
    "ax_rsi.plot(df_plot.index, df_plot[\"Close5d%\"])\n",
    "\n",
    "# plotting the Price\n",
    "#ax_rsi.plot(df_plot.index, (df_plot[\"Volume\"] / 10000000), label = \"Vol\", color= \"black\")  # density=False would make counts\n",
    "#ax_rsi.plot(df_plot[\"Close\"], label = \"Price\")\n",
    "#ax_rsi.plot((df_plot[\"Volume\"] / 10000000), label=\"Vol\", color =\"Black\")\n",
    "ax_rsi.legend()"
   ]
  },
  {
   "cell_type": "code",
   "execution_count": null,
   "id": "719427ea",
   "metadata": {},
   "outputs": [],
   "source": [
    "# Categoriacl feature engineering represented as binary\n",
    "print(list_to_category)\n",
    "#print(list_to_category)\n",
    "for col in list_to_category:\n",
    "    under = \"Under \" + col \n",
    "    over = \"Over \" + col \n",
    "    df[under] = df[col] <= df[\"Close\"]\n",
    "    df[over] = df[col] > df[\"Close\"]\n",
    "    df[under] = df[under].astype(int)\n",
    "    df[over] = df[over].astype(int)\n",
    "    \n",
    "print(df.columns)\n",
    "print(df.head(30))\n"
   ]
  },
  {
   "cell_type": "code",
   "execution_count": null,
   "id": "6be2c4f1",
   "metadata": {},
   "outputs": [],
   "source": [
    "# % difference from price Features\n",
    "print(list_to_percentage)\n",
    "for col in list_to_percentage:\n",
    "    col_name = \"% \" + col \n",
    "    df[col_name] = df[col] / df[\"Close\"]\n",
    "    #df[col_name] = df[\"Close\"] / df[col]\n",
    "    print(df[col_name])"
   ]
  },
  {
   "cell_type": "code",
   "execution_count": null,
   "id": "d2ee2d5c",
   "metadata": {},
   "outputs": [],
   "source": [
    "# Other indicators % feature engineering"
   ]
  },
  {
   "cell_type": "code",
   "execution_count": null,
   "id": "81f25564",
   "metadata": {},
   "outputs": [],
   "source": [
    "# correlation calculation\n",
    "feature_corr = df.copy().corr()\n",
    "\n",
    "# Sorting\n",
    "sortedDesc1d = feature_corr[\"Close1d%\"].sort_values(ascending=False) \n",
    "sortedDesc5d = feature_corr[\"Close5d%\"].sort_values(ascending=False) \n",
    "sortedDesc10d = feature_corr[\"Close10d%\"].sort_values(ascending=False) \n",
    "sortedDesc15d = feature_corr[\"Close15d%\"].sort_values(ascending=False) \n",
    "sortedDesc20d = feature_corr[\"Close20d%\"].sort_values(ascending=False) \n",
    "\n",
    "# Printing\n",
    "print(sortedDesc1d.head(10))\n",
    "print(sortedDesc5d.head(10))\n",
    "print(sortedDesc10d.head(10))\n",
    "print(sortedDesc15d.head(10))\n",
    "print(sortedDesc20d.head(10))"
   ]
  },
  {
   "cell_type": "code",
   "execution_count": null,
   "id": "635211eb",
   "metadata": {},
   "outputs": [],
   "source": [
    "# Exporting as CSV \n",
    "oneStockAAPL.to_csv(r'../CSV/FeaturesAAPL.csv', sep= \",\", index = False)"
   ]
  },
  {
   "cell_type": "code",
   "execution_count": null,
   "id": "17fddf87",
   "metadata": {},
   "outputs": [],
   "source": [
    "#cf_matrix = confusion_matrix(feature_corr)\n",
    "#plt.figure(figsize = (24,18))\n",
    "#sns.heatmap(feature_corr, annot=True, cbar=False, )"
   ]
  },
  {
   "cell_type": "code",
   "execution_count": null,
   "id": "ebb9f975",
   "metadata": {},
   "outputs": [],
   "source": [
    "# LSTM test\n",
    "# reshaping into NP arrays\n",
    "\n",
    "#df_model = df.iloc[60:-60]\n",
    "#print(df_model.shape)\n",
    "#sma_1 = np.array(df_model[\"SMA50\"]).reshape(len(df_model[\"SMA50\"]),1)\n",
    "#sma_2 = np.array(df_model[\"SMA10\"]).reshape(len(df_model[\"SMA10\"]),1)\n",
    "#sma_2 = sma_1[:-60]\n",
    "#print(len(sma_1),len(sma_2))\n",
    "#plt.plot(sma_1)\n",
    "#plt.plot(sma_2)\n",
    "#\n",
    "#smas = np.hstack((sma_1,sma_2))\n",
    "#smas.shape\n",
    "#X = np.array(smas)\n",
    "#y = np.array(df_model[\"Close\"])\n",
    "#X.shape,y.shape"
   ]
  },
  {
   "cell_type": "code",
   "execution_count": null,
   "id": "319e812b",
   "metadata": {},
   "outputs": [],
   "source": [
    "#model = Sequential()\n",
    "#model.add(LSTM(100, activation='relu', kernel_initializer='he_normal', input_shape=(k[0],1)))\n",
    "#model.add(Dense(50, activation='relu', kernel_initializer='he_normal'))\n",
    "#model.add(Dense(50, activation='relu', kernel_initializer='he_normal'))\n",
    "#model.add(Dense(50, activation='relu', kernel_initializer='he_normal'))\n",
    "#model.add(Dense(50, activation='relu', kernel_initializer='he_normal'))\n",
    "#model.add(Dense(50, activation='relu', kernel_initializer='he_normal'))\n",
    "#model.add(BatchNormalization())\n",
    "#model.add(Dense(1))"
   ]
  },
  {
   "cell_type": "code",
   "execution_count": null,
   "id": "7711186e",
   "metadata": {},
   "outputs": [],
   "source": [
    "#train_loss = model.evaluate(X, y)\n",
    "#print(train_loss)"
   ]
  },
  {
   "cell_type": "code",
   "execution_count": null,
   "id": "d344f5c9",
   "metadata": {},
   "outputs": [],
   "source": [
    "#model.predict(X)"
   ]
  },
  {
   "cell_type": "code",
   "execution_count": null,
   "id": "8b0459dd",
   "metadata": {},
   "outputs": [],
   "source": []
  }
 ],
 "metadata": {
  "kernelspec": {
   "display_name": "Python 3 (ipykernel)",
   "language": "python",
   "name": "python3"
  },
  "language_info": {
   "codemirror_mode": {
    "name": "ipython",
    "version": 3
   },
   "file_extension": ".py",
   "mimetype": "text/x-python",
   "name": "python",
   "nbconvert_exporter": "python",
   "pygments_lexer": "ipython3",
   "version": "3.8.12"
  }
 },
 "nbformat": 4,
 "nbformat_minor": 5
}
